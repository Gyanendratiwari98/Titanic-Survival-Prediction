{
 "cells": [
  {
   "cell_type": "code",
   "execution_count": null,
   "id": "538783e6-c991-48bf-8e77-a660bd625798",
   "metadata": {},
   "outputs": [],
   "source": []
  }
 ],
 "metadata": {
  "kernelspec": {
   "display_name": "",
   "name": ""
  },
  "language_info": {
   "name": ""
  }
 },
 "nbformat": 4,
 "nbformat_minor": 5
}
